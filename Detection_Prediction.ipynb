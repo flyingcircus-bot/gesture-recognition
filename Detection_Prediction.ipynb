{
 "cells": [
  {
   "cell_type": "code",
   "execution_count": 2,
   "metadata": {},
   "outputs": [
    {
     "name": "stderr",
     "output_type": "stream",
     "text": [
      "Using TensorFlow backend.\n"
     ]
    }
   ],
   "source": [
    "import tensorflow as tf\n",
    "from keras.models import model_from_json\n",
    "import matplotlib.pyplot as plt\n",
    "import numpy as np\n",
    "import cv2"
   ]
  },
  {
   "cell_type": "code",
   "execution_count": 3,
   "metadata": {},
   "outputs": [],
   "source": [
    "json_file = open(\"finalmodelv2.json\",\"r\")\n",
    "model_json = json_file.read()\n",
    "json_file.close()\n",
    "loaded_model = model_from_json(model_json)\n",
    "loaded_model.load_weights(\"finalmodelv2.h5\")"
   ]
  },
  {
   "cell_type": "code",
   "execution_count": 4,
   "metadata": {},
   "outputs": [],
   "source": [
    "categories = {0:'Request Water',#Palm\n",
    "              1:'Request Doctor',#L\n",
    "              2:'Request Nurse',#Fist\n",
    "              3:'Request Stroll',#Fist_Moved\n",
    "              4:'Request PT',#Thumb\n",
    "              5:'Request CS',#Index\n",
    "              6:'Request Food',#Ok\n",
    "              7:'Request Meeting',#Palmmmoved\n",
    "              8:'Request WC',#C\n",
    "              9:'Request Help'}#Down"
   ]
  },
  {
   "cell_type": "code",
   "execution_count": 5,
   "metadata": {},
   "outputs": [],
   "source": [
    "def prepare(filepath):\n",
    "    IMAGE_SIZE = 200\n",
    "    image = cv2.cvtColor(filepath, cv2.COLOR_BGR2GRAY)\n",
    "    new_array = cv2.resize(image,(IMAGE_SIZE,IMAGE_SIZE))\n",
    "    return new_array.reshape(-1,IMAGE_SIZE,IMAGE_SIZE,1)"
   ]
  },
  {
   "cell_type": "code",
   "execution_count": 9,
   "metadata": {},
   "outputs": [],
   "source": [
    "import numpy as np\n",
    "import cv2\n",
    "import math\n",
    "capture = cv2.VideoCapture(1)\n",
    "while capture.isOpened():\n",
    "\n",
    "    ret, frame = capture.read()\n",
    "    cv2.rectangle(frame, (100, 100), (250, 250), (0, 255, 0), 0)\n",
    "    image = frame[100:250, 100:250]\n",
    "    im_bg = cv2.dilate(image, np.ones((5,5), dtype=np.uint8))\n",
    "    image_bg = cv2.GaussianBlur(im_bg, (5,5), 1)\n",
    "    image_bgg = 255 - cv2.absdiff(image, image_bg)\n",
    "    font = cv2.FONT_HERSHEY_SIMPLEX\n",
    "\n",
    "   \n",
    "    _,final_image = cv2.threshold(image_bgg, 240, 255, cv2.THRESH_BINARY_INV)\n",
    "    \n",
    "\n",
    "    prediction = loaded_model.predict([prepare(final_image)])\n",
    "\n",
    "    for i in range(0,10):\n",
    "        if int(prediction[0][i]) == 1:\n",
    "            cv2.putText(frame,str(categories[i]),(10,50), font, 2,(255,255,255),2,cv2.LINE_AA)\n",
    "    \n",
    "    \n",
    "    cv2.imshow(\"Frame\", final_image)\n",
    "\n",
    "    cv2.imshow(\"Gesture\", frame)\n",
    "    \n",
    "    if cv2.waitKey(1) == ord('q'):\n",
    "        break\n",
    "\n",
    "capture.release()\n",
    "cv2.destroyAllWindows()"
   ]
  },
  {
   "cell_type": "code",
   "execution_count": null,
   "metadata": {},
   "outputs": [],
   "source": []
  },
  {
   "cell_type": "code",
   "execution_count": null,
   "metadata": {},
   "outputs": [],
   "source": []
  }
 ],
 "metadata": {
  "kernelspec": {
   "display_name": "Python 3",
   "language": "python",
   "name": "python3"
  },
  "language_info": {
   "codemirror_mode": {
    "name": "ipython",
    "version": 3
   },
   "file_extension": ".py",
   "mimetype": "text/x-python",
   "name": "python",
   "nbconvert_exporter": "python",
   "pygments_lexer": "ipython3",
   "version": "3.7.9"
  }
 },
 "nbformat": 4,
 "nbformat_minor": 4
}
