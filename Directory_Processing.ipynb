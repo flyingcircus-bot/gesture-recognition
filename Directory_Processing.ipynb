{
 "cells": [
  {
   "cell_type": "code",
   "execution_count": 8,
   "metadata": {},
   "outputs": [],
   "source": [
    "\"\"\"Applying Dilate and Gaussian Blur to the current directory than create a new directory that stores the new filtered images\"\"\"\n",
    "import os\n",
    "import cv2\n",
    "import glob\n",
    "import numpy as np\n",
    "path_decided = 'C:/Users/MYK/Desktop/gp_data/validation'\n",
    "images = [cv2.imread(file) for file in glob.glob(\"C:/Users/MYK/Desktop/reorganized_dataset/val/*/*.png\")]\n",
    "for i, im in enumerate(images):\n",
    "    bg = cv2.dilate(im, np.ones((5,5), dtype=np.uint8))\n",
    "    bg = cv2.GaussianBlur(bg, (5,5), 1)\n",
    "    im_bg = 255 - cv2.absdiff(im, bg)\n",
    "    image = cv2.threshold(im_bg, 240, 250, cv2.THRESH_BINARY_INV)\n",
    "    cv2.imwrite(os.path.join(path_decided , \"val_image\" + str(i)+\".png\"), image)"
   ]
  },
  {
   "cell_type": "code",
   "execution_count": null,
   "metadata": {},
   "outputs": [],
   "source": [
    "\"\"\"Split the directory as train test and validation set.\"\"\"\n",
    "import splitfolders\n",
    "path = \"../Desktop/leapGestRecog/\"\n",
    "dirs = os.listdir(path)\n",
    "output_folder = \"../Desktop/reorganized_dataset\"\n",
    "def list_tree(path):\n",
    "    for current_path, directory_names, files in os.walk(path):\n",
    "        directory_level = current_path.count(os.sep)\n",
    "        print(\"{}{}/\".format((\" \"*4)*directory_level, os.path.basename(current_path)))\n",
    "for files in dirs:\n",
    "    splitfolders.ratio(\"../Desktop/leapGestRecog/\" +str(files), output=output_folder, \n",
    "                       seed=1337, ratio=(.8, .1, .1), group_prefix=None)        "
   ]
  }
 ],
 "metadata": {
  "kernelspec": {
   "display_name": "Python 3",
   "language": "python",
   "name": "python3"
  },
  "language_info": {
   "codemirror_mode": {
    "name": "ipython",
    "version": 3
   },
   "file_extension": ".py",
   "mimetype": "text/x-python",
   "name": "python",
   "nbconvert_exporter": "python",
   "pygments_lexer": "ipython3",
   "version": "3.7.9"
  }
 },
 "nbformat": 4,
 "nbformat_minor": 4
}
